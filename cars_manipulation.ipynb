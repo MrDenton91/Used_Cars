{
 "cells": [
  {
   "cell_type": "code",
   "execution_count": 1,
   "metadata": {},
   "outputs": [],
   "source": [
    "import pandas as pd\n",
    "import numpy as np\n"
   ]
  },
  {
   "cell_type": "code",
   "execution_count": 2,
   "metadata": {},
   "outputs": [],
   "source": [
    "df_LosA = pd.read_csv('carlist_losA.csv', header = None, names = range(10))\n",
    "df_Chicago = pd.read_csv('carlist_chicago.csv', header = None, names = range(10))\n",
    "df_NewYork = pd.read_csv('carlist_newYork.csv', header = None, names = range(10))\n",
    "\n",
    "\n",
    "cars_los = pd.DataFrame([])\n",
    "cars_chi = pd.DataFrame([])\n",
    "cars_new = pd.DataFrame([])\n",
    "\n"
   ]
  },
  {
   "cell_type": "code",
   "execution_count": 3,
   "metadata": {},
   "outputs": [],
   "source": [
    "def clean_price(df, new_df):\n",
    "    container = []\n",
    "    for i in range(len(df)):\n",
    "        container.append((df[0][i]))\n",
    "    new_df['Price'] = container\n",
    "    pass\n",
    "\n",
    "def clean_miles(df, new_df):\n",
    "    container = []\n",
    "    for i in range(len(df)):\n",
    "        container.append((df[8][i]))\n",
    "    new_df['Miles'] = container\n",
    "    pass"
   ]
  },
  {
   "cell_type": "code",
   "execution_count": 4,
   "metadata": {},
   "outputs": [],
   "source": [
    "def what_year(df,new_df):\n",
    "    container = []\n",
    "    for i in range(len(df)):\n",
    "        container.append(((df[3][i])))\n",
    "    new_df['Year'] = container\n",
    "    pass\n",
    "\n",
    "def what_state(df, new_df):\n",
    "    container = []\n",
    "    for i in range(len(df)):\n",
    "        container.append((df[6][i]))\n",
    "    new_df['Zipcode'] = container\n",
    "    pass\n",
    "\n",
    "def car_make(df,new_df):\n",
    "    container = []\n",
    "    for i in range(len(df)):\n",
    "        make = df[1][i]\n",
    "        container.append(make)\n",
    "    new_df[\"Make\"] = container\n",
    "    pass\n",
    "\n",
    "def car_model(df,new_df):\n",
    "    container = []\n",
    "    for i in range(len(df)):\n",
    "        model = df[2][i]\n",
    "        container.append((model))\n",
    "    new_df['Model'] = container\n",
    "    pass\n",
    "\n",
    "def city_in(df, new_df, city):\n",
    "    container = []\n",
    "    for i in range(len(df)):\n",
    "        container.append((city))\n",
    "    new_df['City'] = container\n",
    "    pass\n",
    "def bodyz(df, new_df):\n",
    "    container = []\n",
    "    for i in range(len(df)):\n",
    "        container.append(df[4][i])\n",
    "    new_df['Body'] = container\n",
    "    pass"
   ]
  },
  {
   "cell_type": "code",
   "execution_count": 5,
   "metadata": {},
   "outputs": [],
   "source": [
    "def super_clean(df, new_df, city):\n",
    "    #clean_miles(df, new_df)\n",
    "    clean_price(df, new_df)\n",
    "    what_year(df, new_df)\n",
    "    car_make(df,new_df)\n",
    "    car_model(df, new_df)\n",
    "    bodyz(df,new_df)\n",
    "    city_in(df, new_df, city)\n",
    "    pass"
   ]
  },
  {
   "cell_type": "code",
   "execution_count": 6,
   "metadata": {},
   "outputs": [],
   "source": [
    "#cars.dropna(inplace=True)\n",
    "#cars = cars.drop_duplicates()\n",
    "#print(cars_los.head())"
   ]
  },
  {
   "cell_type": "code",
   "execution_count": 7,
   "metadata": {},
   "outputs": [],
   "source": [
    "super_clean(df_LosA, cars_los,'Los Angels')\n",
    "super_clean(df_Chicago, cars_chi,'Chicago')\n",
    "super_clean(df_NewYork, cars_new, \"New York\")"
   ]
  },
  {
   "cell_type": "code",
   "execution_count": 8,
   "metadata": {
    "scrolled": false
   },
   "outputs": [
    {
     "name": "stdout",
     "output_type": "stream",
     "text": [
      "     Price  Year      Make    Model   Body      City\n",
      "0  15995.0  2017    Nissan   Altima  Sedan  New York\n",
      "1  11990.0  2017   Hyundai   Sonata  Sedan  New York\n",
      "2   9995.0  2015  Chrysler      200  Sedan  New York\n",
      "3  14299.0  2017     Acura      ILX  Sedan  New York\n",
      "4   5900.0  2013       GMC  Terrain    SUV  New York\n"
     ]
    }
   ],
   "source": [
    "print(cars_new.head())"
   ]
  },
  {
   "cell_type": "code",
   "execution_count": 9,
   "metadata": {},
   "outputs": [],
   "source": [
    "all_data = pd.concat([cars_los, cars_chi, cars_new], axis=0, join='outer', sort=True)"
   ]
  },
  {
   "cell_type": "code",
   "execution_count": 10,
   "metadata": {},
   "outputs": [
    {
     "data": {
      "text/plain": [
       "620997"
      ]
     },
     "execution_count": 10,
     "metadata": {},
     "output_type": "execute_result"
    }
   ],
   "source": [
    "len(all_data)"
   ]
  },
  {
   "cell_type": "code",
   "execution_count": 11,
   "metadata": {},
   "outputs": [
    {
     "name": "stdout",
     "output_type": "stream",
     "text": [
      "620997\n",
      "11801\n",
      "11707\n"
     ]
    }
   ],
   "source": [
    "print(len(all_data))\n",
    "no_dups = all_data.drop_duplicates()\n",
    "no_nan = no_dups.dropna()\n",
    "print(len(no_dups))\n",
    "print(len(no_nan))"
   ]
  },
  {
   "cell_type": "code",
   "execution_count": 122,
   "metadata": {},
   "outputs": [
    {
     "data": {
      "text/html": [
       "<div>\n",
       "<style scoped>\n",
       "    .dataframe tbody tr th:only-of-type {\n",
       "        vertical-align: middle;\n",
       "    }\n",
       "\n",
       "    .dataframe tbody tr th {\n",
       "        vertical-align: top;\n",
       "    }\n",
       "\n",
       "    .dataframe thead th {\n",
       "        text-align: right;\n",
       "    }\n",
       "</style>\n",
       "<table border=\"1\" class=\"dataframe\">\n",
       "  <thead>\n",
       "    <tr style=\"text-align: right;\">\n",
       "      <th></th>\n",
       "      <th>Body</th>\n",
       "      <th>City</th>\n",
       "      <th>Make</th>\n",
       "      <th>Model</th>\n",
       "      <th>Price</th>\n",
       "      <th>Year</th>\n",
       "    </tr>\n",
       "  </thead>\n",
       "  <tbody>\n",
       "    <tr>\n",
       "      <th>0</th>\n",
       "      <td>Wagon</td>\n",
       "      <td>Los Angels</td>\n",
       "      <td>Chevrolet</td>\n",
       "      <td>Bolt EV</td>\n",
       "      <td>28287.0</td>\n",
       "      <td>2020</td>\n",
       "    </tr>\n",
       "    <tr>\n",
       "      <th>1</th>\n",
       "      <td>SUV</td>\n",
       "      <td>Los Angels</td>\n",
       "      <td>Nissan</td>\n",
       "      <td>Kicks</td>\n",
       "      <td>20025.0</td>\n",
       "      <td>2020</td>\n",
       "    </tr>\n",
       "    <tr>\n",
       "      <th>2</th>\n",
       "      <td>SUV</td>\n",
       "      <td>Los Angels</td>\n",
       "      <td>Nissan</td>\n",
       "      <td>Kicks</td>\n",
       "      <td>19630.0</td>\n",
       "      <td>2020</td>\n",
       "    </tr>\n",
       "    <tr>\n",
       "      <th>4</th>\n",
       "      <td>Sedan</td>\n",
       "      <td>Los Angels</td>\n",
       "      <td>Nissan</td>\n",
       "      <td>Versa</td>\n",
       "      <td>14834.0</td>\n",
       "      <td>2020</td>\n",
       "    </tr>\n",
       "    <tr>\n",
       "      <th>5</th>\n",
       "      <td>Sedan</td>\n",
       "      <td>Los Angels</td>\n",
       "      <td>Nissan</td>\n",
       "      <td>Versa</td>\n",
       "      <td>18106.0</td>\n",
       "      <td>2020</td>\n",
       "    </tr>\n",
       "  </tbody>\n",
       "</table>\n",
       "</div>"
      ],
      "text/plain": [
       "    Body        City       Make    Model    Price  Year\n",
       "0  Wagon  Los Angels  Chevrolet  Bolt EV  28287.0  2020\n",
       "1    SUV  Los Angels     Nissan    Kicks  20025.0  2020\n",
       "2    SUV  Los Angels     Nissan    Kicks  19630.0  2020\n",
       "4  Sedan  Los Angels     Nissan    Versa  14834.0  2020\n",
       "5  Sedan  Los Angels     Nissan    Versa  18106.0  2020"
      ]
     },
     "execution_count": 122,
     "metadata": {},
     "output_type": "execute_result"
    }
   ],
   "source": [
    "no_nan.head()\n"
   ]
  },
  {
   "cell_type": "code",
   "execution_count": 127,
   "metadata": {},
   "outputs": [
    {
     "data": {
      "image/png": "[encoded data removed]",
      "text/plain": [
       "<Figure size 720x360 with 1 Axes>"
      ]
     },
     "metadata": {},
     "output_type": "display_data"
    }
   ],
   "source": [
    "import matplotlib.pyplot as plt\n",
    "%matplotlib inline\n",
    "plt.style.use('ggplot')\n",
    "df_mazda = no_nan[no_nan['Make'] == 'Mazda']\n",
    "df_mercedes = no_nan[no_nan['Make'] == 'Mercedes-Benz']\n",
    "df_bmw =no_nan[no_nan['Make'] == 'BMW']\n",
    "df_toyota =no_nan[no_nan['Make'] == 'Toyota']\n",
    "df_ford = no_nan[no_nan['Make'] == 'Ford']\n",
    "df_nissian = no_nan[no_nan['Make'] == 'Nissan']\n",
    "df_dodge= no_nan[no_nan['Make'] == 'Dodge']\n",
    "df_honda = no_nan[no_nan['Make'] == 'Honda']\n",
    "df_audi = no_nan[no_nan['Make'] == 'Audi']\n",
    "df_chevy = no_nan[no_nan['Make'] == 'Chevrolet']\n",
    "top_ten = pd.concat([df_mercedes,df_bmw,df_chevy,df_audi,df_honda,df_dodge,df_nissian,df_ford,df_toyota,df_mazda])\n",
    "\n",
    "#plt.ylim(0, 10)\n",
    "top_ten.plot.scatter(x = 'Make',y=('Price'), figsize=(10,5), alpha=.3)\n",
    "plt.savefig('top_ten.png')"
   ]
  },
  {
   "cell_type": "code",
   "execution_count": 133,
   "metadata": {},
   "outputs": [
    {
     "name": "stdout",
     "output_type": "stream",
     "text": [
      "322\n",
      "464\n",
      "478\n",
      "411\n"
     ]
    }
   ],
   "source": [
    "print(len(df_mazda))\n",
    "print(len(df_toyota))\n",
    "print(len(df_bmw))\n",
    "print(len(df_mercedes))\n",
    "\n",
    "common = pd.concat([df_mazda,df_toyota])\n",
    "lux = pd.concat([df_mercedes,df_bmw])"
   ]
  },
  {
   "cell_type": "code",
   "execution_count": 129,
   "metadata": {},
   "outputs": [
    {
     "data": {
      "image/png": "[encoded data removed]",
      "text/plain": [
       "<Figure size 432x288 with 1 Axes>"
      ]
     },
     "metadata": {},
     "output_type": "display_data"
    }
   ],
   "source": [
    "fig, ax1 = plt.subplots()\n",
    "ax1.hist([df_mazda['Price'],df_toyota['Price']], label = ['Mazda', 'Toyota'], bins=10)\n",
    "ax1.legend(loc='upper right')\n",
    "ax1.set_xlabel('Price (USD $)')\n",
    "ax1.set_ylabel('Frequency')\n",
    "\n",
    "\n",
    "plt.savefig('mazda_toyota.png')\n",
    "plt.show()"
   ]
  },
  {
   "cell_type": "code",
   "execution_count": 130,
   "metadata": {},
   "outputs": [
    {
     "data": {
      "image/png": "[encoded data removed]",
      "text/plain": [
       "<Figure size 432x288 with 1 Axes>"
      ]
     },
     "metadata": {},
     "output_type": "display_data"
    }
   ],
   "source": [
    "fig, ax1 = plt.subplots()\n",
    "ax1.hist([df_mercedes['Price'],df_bmw['Price']], label = ['Mercedes-Benz', 'BMW'], bins=10)\n",
    "ax1.legend(loc='upper right')\n",
    "ax1.set_xlabel('Price (USD $)')\n",
    "ax1.set_ylabel('Frequency')\n",
    "#ax1.set_xlim(0,100000)\n",
    "\n",
    "plt.savefig('bmw_mercedes2.png')\n",
    "plt.show()"
   ]
  },
  {
   "cell_type": "code",
   "execution_count": 140,
   "metadata": {},
   "outputs": [
    {
     "name": "stdout",
     "output_type": "stream",
     "text": [
      "Ttest_indResult(statistic=-1.8567920000494806, pvalue=0.06371564543031194)\n"
     ]
    },
    {
     "data": {
      "image/png": "[encoded data removed]",
      "text/plain": [
       "<Figure size 432x288 with 1 Axes>"
      ]
     },
     "metadata": {},
     "output_type": "display_data"
    }
   ],
   "source": [
    "import scipy.stats as stats\n",
    "\n",
    "common_mean = common['Price'].mean()\n",
    "common_std = common['Price'].std()\n",
    "x = common_mean + common_std * np.random.randn(889)\n",
    "bins = 60\n",
    "fig, ax = plt.subplots()\n",
    "n, bins, patches = ax.hist(x, bins, density=1)\n",
    "\n",
    "y = ((1 / (np.sqrt(2 * np.pi) * common_std)) *\n",
    "     np.exp(-0.5 * (1 / common_std * (bins - common_mean))**2))\n",
    "\n",
    "ax.plot(bins, y, '--')\n",
    "ax.set_xlabel('Price of Common (USD $)')\n",
    "\n",
    "#t test for mazada mean vs toyota\n",
    "print(stats.ttest_ind(df_toyota['Price'],df_mazda['Price']))\n",
    "plt.savefig('normal_using_common.png')"
   ]
  },
  {
   "cell_type": "code",
   "execution_count": 141,
   "metadata": {},
   "outputs": [
    {
     "data": {
      "image/png": "[encoded data removed]",
      "text/plain": [
       "<Figure size 432x288 with 1 Axes>"
      ]
     },
     "metadata": {},
     "output_type": "display_data"
    }
   ],
   "source": [
    "lux_mean = lux['Price'].mean()\n",
    "lux_std = lux['Price'].std()\n",
    "x = lux_mean + lux_std * np.random.randn(786)\n",
    "bins = 60\n",
    "fig, ax = plt.subplots()\n",
    "n, bins, patches = ax.hist(x, bins, density=1)\n",
    "\n",
    "y = ((1 / (np.sqrt(2 * np.pi) * lux_std)) *\n",
    "     np.exp(-0.5 * (1 / lux_std * (bins - lux_mean))**2))\n",
    "\n",
    "ax.plot(bins, y, '--')\n",
    "ax.set_xlabel('Price of Luxury (USD $)')\n",
    "plt.savefig('normal_using_lux.png')"
   ]
  },
  {
   "cell_type": "code",
   "execution_count": 107,
   "metadata": {},
   "outputs": [
    {
     "name": "stdout",
     "output_type": "stream",
     "text": [
      "Ttest_indResult(statistic=-3.414422727589426, pvalue=0.0006681525117998042)\n",
      "Ttest_indResult(statistic=11.636175367667198, pvalue=5.115396197611314e-29)\n"
     ]
    }
   ],
   "source": [
    "# I'm under the impression that the price of one car effects the price of another\n",
    "print(stats.ttest_ind(df_bmw['Price'],df_mercedes['Price']))\n",
    "print(stats.ttest_ind(df_bmw['Price'],df_mazda['Price']))\n"
   ]
  },
  {
   "cell_type": "code",
   "execution_count": null,
   "metadata": {},
   "outputs": [],
   "source": []
  }
 ],
 "metadata": {
  "kernelspec": {
   "display_name": "Python 3",
   "language": "python",
   "name": "python3"
  },
  "language_info": {
   "codemirror_mode": {
    "name": "ipython",
    "version": 3
   },
   "file_extension": ".py",
   "mimetype": "text/x-python",
   "name": "python",
   "nbconvert_exporter": "python",
   "pygments_lexer": "ipython3",
   "version": "3.7.7"
  }
 },
 "nbformat": 4,
 "nbformat_minor": 4
}
